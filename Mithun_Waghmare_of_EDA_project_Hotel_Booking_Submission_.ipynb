{
  "nbformat": 4,
  "nbformat_minor": 0,
  "metadata": {
    "colab": {
      "private_outputs": true,
      "provenance": [],
      "collapsed_sections": [
        "vncDsAP0Gaoa",
        "FJNUwmbgGyua",
        "w6K7xa23Elo4",
        "yQaldy8SH6Dl",
        "PH-0ReGfmX4f",
        "mDgbUHAGgjLW",
        "H0kj-8xxnORC",
        "MSa1f5Uengrz",
        "K5QZ13OEpz2H",
        "lQ7QKXXCp7Bj",
        "448CDAPjqfQr",
        "t6dVpIINYklI",
        "ijmpgYnKYklI",
        "-JiQyfWJYklI",
        "fge-S5ZAYoAp",
        "85gYPyotYoAp",
        "RoGjAbkUYoAp",
        "iky9q4vBYrdO",
        "F6T5p64dYrdO",
        "y-Ehk30pYrdP",
        "GwzvFGzlYuh3",
        "qYpmQ266Yuh3",
        "_ouA3fa0phqN",
        "Seke61FWphqN",
        "t27r6nlMphqO",
        "r2jJGEOYphqO",
        "b0JNsNcRphqO",
        "jj7wYXLtphqO",
        "eZrbJ2SmphqO",
        "rFu4xreNphqO",
        "gCFgpxoyphqP",
        "OVtJsKN_phqQ",
        "lssrdh5qphqQ",
        "1M8mcRywphqQ",
        "tgIPom80phqQ",
        "JMzcOPDDphqR",
        "X_VqEhTip1ck",
        "8zGJKyg5p1ck",
        "PVzmfK_Ep1ck",
        "ylSl6qgtp1ck",
        "ZWILFDl5p1ck",
        "M7G43BXep1ck",
        "E6MkPsBcp1cl",
        "2cELzS2fp1cl",
        "3MPXvC8up1cl",
        "UV0SzAkaZNRQ",
        "YPEH6qLeZNRQ",
        "22aHeOlLveiV",
        "8G2x9gOozGDZ",
        "gIfDvo9L0UH2"
      ],
      "include_colab_link": true
    },
    "kernelspec": {
      "name": "python3",
      "display_name": "Python 3"
    },
    "language_info": {
      "name": "python"
    }
  },
  "cells": [
    {
      "cell_type": "markdown",
      "metadata": {
        "id": "view-in-github",
        "colab_type": "text"
      },
      "source": [
        "<a href=\"https://colab.research.google.com/github/mithun-mith/ExploringHotelBookingData/blob/Hotel_Booking_Data_1/Mithun_Waghmare_of_EDA_project_Hotel_Booking_Submission_.ipynb\" target=\"_parent\"><img src=\"https://colab.research.google.com/assets/colab-badge.svg\" alt=\"Open In Colab\"/></a>"
      ]
    },
    {
      "cell_type": "markdown",
      "source": [
        "# **Project Name**    -\n",
        "\n"
      ],
      "metadata": {
        "id": "vncDsAP0Gaoa"
      }
    },
    {
      "cell_type": "markdown",
      "source": [
        "##### **Project Type**    - EDA / project / Exploring Hotel Booking Data\n",
        "##### **Contribution**    - Individual\n",
        "##### **Team Member 1**  - Mithun Waghmare\n"
      ],
      "metadata": {
        "id": "beRrZCGUAJYm"
      }
    },
    {
      "cell_type": "markdown",
      "source": [
        "# **Project Summary -**"
      ],
      "metadata": {
        "id": "FJNUwmbgGyua"
      }
    },
    {
      "cell_type": "markdown",
      "source": [
        "The Hotel Booking EDA project aims to analyze and explore a dataset containing hotel booking information in order to gain valuable insights and make informed decisions. The project focuses on conducting exploratory data analysis to understand the patterns, trends, and relationships within the dataset, with the ultimate goal of extracting meaningful information to optimize the hotel booking process.\n",
        "The dataset used in this project consists of various attributes related to hotel bookings, including customer demographics, booking details, hotel information, and other relevant variables. The primary objectives of the project are as follows:\n",
        "* \t\tData Cleaning and Preprocessing: The initial step involves cleaning the dataset to handle missing values, removing duplicates, and correcting any inconsistencies. The preprocessing stage also includes transforming the data into a suitable format for analysis, ensuring data integrity, and preparing it for further exploration.\n",
        "* \t\tDescriptive Statistics: The project delves into the descriptive analysis of the dataset to uncover key statistical measures such as mean, median, mode, standard deviation, and range for numerical variables. This analysis provides a comprehensive understanding of the dataset's central tendencies and dispersions, enabling better decision-making.\n",
        "* \t\tData Visualization: Utilizing various visualization techniques, such as bar charts, histograms, scatter plots, and heatmaps, the project visualizes the data to reveal patterns, trends, and correlations. Visual representations make it easier to grasp complex relationships within the dataset and present the findings in a clear and concise manner.\n",
        "* \t\tCustomer Segmentation: By analyzing customer demographics and booking patterns, the project aims to identify distinct customer segments. This segmentation enables personalized marketing strategies, tailored promotions, and improved customer satisfaction.\n",
        "* \t\tBooking Patterns and Trends: The project investigates booking trends over time, such as seasonal variations, peak booking periods, and customer preferences. Understanding these patterns helps hotels optimize their operations, allocate resources effectively, and offer competitive pricing.\n",
        "* \t\tCancellation Analysis: Analyzing booking cancellations is crucial in understanding customer behavior and identifying potential areas for improvement. The project explores cancellation rates, reasons for cancellations, and their impact on revenue.\n",
        "* \t\tFeature Importance: Through feature importance analysis, the project determines which attributes have the most significant impact on booking decisions. This knowledge aids in prioritizing resources and optimizing marketing strategies.\n",
        "* \t\tRecommendations and Insights: The final step involves extracting actionable insights and recommendations from the analysis. These insights can be used by hotel management to improve the booking process, enhance customer experiences, and increase overall profitability.\n",
        "By conducting a thorough exploratory data analysis of the hotel booking dataset, this project provides valuable insights into customer behavior, booking patterns, and operational optimizations. The outcomes of this analysis can guide decision-making processes and assist hotels in improving their service offerings to meet customer expectations and increase their competitive advantage.\n",
        "\n"
      ],
      "metadata": {
        "id": "B1AqsqLHNMEj"
      }
    },
    {
      "cell_type": "markdown",
      "source": [
        "Write the summary here within 500-600 words."
      ],
      "metadata": {
        "id": "F6v_1wHtG2nS"
      }
    },
    {
      "cell_type": "markdown",
      "source": [
        "# **GitHub Link -**"
      ],
      "metadata": {
        "id": "w6K7xa23Elo4"
      }
    },
    {
      "cell_type": "markdown",
      "source": [
        "GitHub Link - https://github.com/mithun-mith/ExploringHotelBookingData/tree/Hotel_Booking_Data_1"
      ],
      "metadata": {
        "id": "lW6oFvMNQXD_"
      }
    },
    {
      "cell_type": "markdown",
      "source": [
        "# **Problem Statement**\n"
      ],
      "metadata": {
        "id": "yQaldy8SH6Dl"
      }
    },
    {
      "cell_type": "markdown",
      "source": [
        "**Write Problem Statement Here.**"
      ],
      "metadata": {
        "id": "DpeJGUA3kjGy"
      }
    },
    {
      "cell_type": "markdown",
      "source": [
        "The hotel industry relies heavily on effective booking management to optimize revenue, occupancy rates, and overall customer satisfaction. However, without a deep understanding of the underlying data and factors influencing booking decisions, hotels may struggle to make informed decisions and improve their booking processes.\n",
        "The problem at hand is the lack of comprehensive insights into hotel booking data, hindering the ability of hotel management to identify trends, patterns, and customer preferences. Without this understanding, hotels face challenges in optimizing their operations, allocating resources efficiently, and developing targeted marketing strategies.\n",
        "Therefore, there is a need for an exploratory data analysis (EDA) project focused on hotel booking data. This project aims to analyze the available dataset, extract meaningful insights, and provide actionable recommendations to improve the hotel booking process. By conducting a thorough analysis, the project seeks to address the following key questions:\n",
        "\n",
        "1. What are the key factors influencing hotel booking decisions?\n",
        "2. Are there any discernible patterns or trends in booking behavior    over time?\n",
        "3. How do customer demographics and preferences impact booking patterns?\n",
        "4. What are the most common reasons for booking cancellations, and how can they be minimized?\n",
        "5. How can hotels effectively segment their customer base for personalized marketing strategies?\n",
        "6. Which attributes have the most significant impact on booking outcomes?\n",
        "7. How can hotels optimize pricing strategies based on demand patterns and customer behavior?\n",
        "8. What actionable insights and recommendations can be derived from the analysis to enhance the hotel booking process?"
      ],
      "metadata": {
        "id": "x1SJLqicQ04c"
      }
    },
    {
      "cell_type": "markdown",
      "source": [
        "#### **Define Your Business Objective?**"
      ],
      "metadata": {
        "id": "PH-0ReGfmX4f"
      }
    },
    {
      "cell_type": "markdown",
      "source": [
        "The primary business objective of the Hotel Booking EDA project is to leverage data analysis and exploration to optimize the hotel booking process and enhance overall business performance. The project aims to provide actionable insights and recommendations to address key challenges faced by hotels in managing their bookings and improving customer satisfaction. The specific business objectives include:\n",
        "\n",
        "1. Improve Revenue Optimization: By analyzing booking patterns, customer preferences, and market trends, the project aims to identify opportunities for revenue optimization. This includes understanding peak booking periods, pricing strategies, and upselling opportunities to maximize revenue generation.\n",
        "2. Enhance Customer Satisfaction: Through customer segmentation and analysis of booking behavior, the project aims to gain insights into customer preferences, allowing hotels to provide personalized experiences and tailored services. This will result in higher customer satisfaction and loyalty.\n",
        "3. Reduce Booking Cancellations: Understanding the reasons behind booking cancellations is crucial for minimizing revenue loss. The project aims to identify patterns and factors contributing to cancellations, enabling hotels to implement measures to reduce cancellations and mitigate their impact.\n",
        "4. Optimize Resource Allocation: By analyzing booking trends and demand patterns, the project seeks to assist hotels in optimizing their resource allocation. This includes identifying periods of high demand, optimizing staff scheduling, and efficiently allocating resources to maximize operational efficiency.\n",
        "5. Inform Marketing Strategies: Through customer segmentation and analysis of booking patterns, the project aims to provide insights that can inform targeted marketing strategies. This includes identifying customer segments with specific preferences and tailoring promotional activities to effectively reach and attract the desired target audience.\n",
        "6. Gain Competitive Advantage: By leveraging data analysis and extracting valuable insights, the project aims to provide hotels with a competitive edge in the market. Understanding market trends, customer behavior, and optimizing operations will allow hotels to differentiate themselves and attract more bookings.\n"
      ],
      "metadata": {
        "id": "_wLaQ0xRSRDf"
      }
    },
    {
      "cell_type": "markdown",
      "source": [
        "# **General Guidelines** : -  "
      ],
      "metadata": {
        "id": "mDgbUHAGgjLW"
      }
    },
    {
      "cell_type": "markdown",
      "source": [
        "1.   Well-structured, formatted, and commented code is required.\n",
        "2.   Exception Handling, Production Grade Code & Deployment Ready Code will be a plus. Those students will be awarded some additional credits.\n",
        "     \n",
        "     The additional credits will have advantages over other students during Star Student selection.\n",
        "       \n",
        "             [ Note: - Deployment Ready Code is defined as, the whole .ipynb notebook should be executable in one go\n",
        "                       without a single error logged. ]\n",
        "\n",
        "3.   Each and every logic should have proper comments.\n",
        "4. You may add as many number of charts you want. Make Sure for each and every chart the following format should be answered.\n",
        "        \n",
        "\n",
        "```\n",
        "# Chart visualization code\n",
        "```\n",
        "            \n",
        "\n",
        "*   Why did you pick the specific chart?\n",
        "*   What is/are the insight(s) found from the chart?\n",
        "* Will the gained insights help creating a positive business impact?\n",
        "Are there any insights that lead to negative growth? Justify with specific reason.\n",
        "\n",
        "5. You have to create at least 20 logical & meaningful charts having important insights.\n",
        "\n",
        "\n",
        "[ Hints : - Do the Vizualization in  a structured way while following \"UBM\" Rule.\n",
        "\n",
        "U - Univariate Analysis,\n",
        "\n",
        "B - Bivariate Analysis (Numerical - Categorical, Numerical - Numerical, Categorical - Categorical)\n",
        "\n",
        "M - Multivariate Analysis\n",
        " ]\n",
        "\n",
        "\n",
        "\n"
      ],
      "metadata": {
        "id": "ZrxVaUj-hHfC"
      }
    },
    {
      "cell_type": "markdown",
      "source": [
        "# ***Let's Begin !***"
      ],
      "metadata": {
        "id": "O_i_v8NEhb9l"
      }
    },
    {
      "cell_type": "markdown",
      "source": [
        "## ***1. Know Your Data***"
      ],
      "metadata": {
        "id": "HhfV-JJviCcP"
      }
    },
    {
      "cell_type": "markdown",
      "source": [
        "### Import Libraries"
      ],
      "metadata": {
        "id": "Y3lxredqlCYt"
      }
    },
    {
      "cell_type": "code",
      "source": [
        "# Import Libraries\n",
        "import pandas as pd\n",
        "import numpy as np\n",
        "import matplotlib.pyplot as plt\n",
        "import seaborn as sns\n"
      ],
      "metadata": {
        "id": "M8Vqi-pPk-HR"
      },
      "execution_count": null,
      "outputs": []
    },
    {
      "cell_type": "markdown",
      "source": [
        "### Dataset Loading"
      ],
      "metadata": {
        "id": "3RnN4peoiCZX"
      }
    },
    {
      "cell_type": "code",
      "source": [
        "# Import statement to mount Google Drive in Google Colab.\n",
        "from google.colab import drive\n",
        "drive.mount('/content/drive')"
      ],
      "metadata": {
        "id": "iyH_jewZVLyN"
      },
      "execution_count": null,
      "outputs": []
    },
    {
      "cell_type": "code",
      "source": [
        "# Load Dataset\n",
        "filepath = \"/content/drive/MyDrive/Hotel Bookings.csv\"\n",
        "hotel_df = pd.read_csv(filepath)"
      ],
      "metadata": {
        "id": "4CkvbW_SlZ_R"
      },
      "execution_count": null,
      "outputs": []
    },
    {
      "cell_type": "markdown",
      "source": [
        "### Dataset First View"
      ],
      "metadata": {
        "id": "x71ZqKXriCWQ"
      }
    },
    {
      "cell_type": "code",
      "source": [
        "# Dataset First Look rows and columns\n",
        "hotel_df"
      ],
      "metadata": {
        "id": "LWNFOSvLl09H"
      },
      "execution_count": null,
      "outputs": []
    },
    {
      "cell_type": "markdown",
      "source": [
        "### Dataset Rows & Columns count"
      ],
      "metadata": {
        "id": "7hBIi_osiCS2"
      }
    },
    {
      "cell_type": "code",
      "source": [
        "# Dataset Rows & Columns count total 119390 rows and 32 columns\n",
        "hotel_df.shape"
      ],
      "metadata": {
        "id": "Kllu7SJgmLij"
      },
      "execution_count": null,
      "outputs": []
    },
    {
      "cell_type": "markdown",
      "source": [
        "\n",
        "The output (119390, 32) indicates that hotel_df has 119,390 rows and 32 columns."
      ],
      "metadata": {
        "id": "lfnHlJMcBZ_u"
      }
    },
    {
      "cell_type": "code",
      "source": [
        "# all columns Name\n",
        "hotel_df.columns"
      ],
      "metadata": {
        "id": "VWPxBciH6rnZ"
      },
      "execution_count": null,
      "outputs": []
    },
    {
      "cell_type": "markdown",
      "source": [
        "\n",
        "All 32 columns name of the DataFrame will be displayed when you print or view the DataFrame."
      ],
      "metadata": {
        "id": "KT7xnTgWDPdC"
      }
    },
    {
      "cell_type": "code",
      "source": [
        "hotel_df.nunique()"
      ],
      "metadata": {
        "id": "cu7p1NlMDyMc"
      },
      "execution_count": null,
      "outputs": []
    },
    {
      "cell_type": "markdown",
      "source": [
        "\n",
        "Here are the unique value counts for each column.\n",
        "These unique value counts provide insights into the diversity and variability of values present in each column of the DataFrame."
      ],
      "metadata": {
        "id": "sDhZaM6QEWZp"
      }
    },
    {
      "cell_type": "markdown",
      "source": [
        "### Dataset Information"
      ],
      "metadata": {
        "id": "JlHwYmJAmNHm"
      }
    },
    {
      "cell_type": "code",
      "source": [
        "# Dataset Info\n",
        "hotel_df.info()"
      ],
      "metadata": {
        "id": "e9hRXRi6meOf"
      },
      "execution_count": null,
      "outputs": []
    },
    {
      "cell_type": "markdown",
      "source": [
        "\n",
        " info() Function provides information about the DataFrame hotel_df, including the column names, data types, and non-null values."
      ],
      "metadata": {
        "id": "gE75nehC8yfR"
      }
    },
    {
      "cell_type": "markdown",
      "source": [
        "# Observation\n",
        "children has float value in this data sate so let convert it into intiger"
      ],
      "metadata": {
        "id": "s-2fDNThnjB_"
      }
    },
    {
      "cell_type": "markdown",
      "source": [
        "#### Duplicate Values"
      ],
      "metadata": {
        "id": "35m5QtbWiB9F"
      }
    },
    {
      "cell_type": "code",
      "source": [
        "# Find duplicate rows based on all columns\n",
        "duplicate_rows = hotel_df[hotel_df.duplicated()]\n"
      ],
      "metadata": {
        "id": "l45BG-r_RVgj"
      },
      "execution_count": null,
      "outputs": []
    },
    {
      "cell_type": "code",
      "source": [
        "duplicate_rows"
      ],
      "metadata": {
        "id": "pzX4Doc0Sbri"
      },
      "execution_count": null,
      "outputs": []
    },
    {
      "cell_type": "markdown",
      "source": [
        "It returns the dataset has 31994 rows duplicates where each row represents is a duplicate values in \"duplicate_rows\" dataset."
      ],
      "metadata": {
        "id": "apf6Q3TNS81b"
      }
    },
    {
      "cell_type": "markdown",
      "source": [
        "#### Missing Values/Null Values"
      ],
      "metadata": {
        "id": "PoPl-ycgm1ru"
      }
    },
    {
      "cell_type": "code",
      "source": [
        "# Check for missing values using isnall()\n",
        "hotel_df.isnull().sum()"
      ],
      "metadata": {
        "id": "HiyXvL5xdN3w"
      },
      "execution_count": null,
      "outputs": []
    },
    {
      "cell_type": "markdown",
      "source": [
        "isnull() function to identify which values in the DataFrame are null or missing.\n",
        "values attribute converts the resulting DataFrame of boolean values"
      ],
      "metadata": {
        "id": "-aEKDAa4eCdI"
      }
    },
    {
      "cell_type": "markdown",
      "source": [
        "### What did you know about your dataset?"
      ],
      "metadata": {
        "id": "H0kj-8xxnORC"
      }
    },
    {
      "cell_type": "markdown",
      "source": [
        "1. The dataset contains 119,390 rows and 32 columns.\n",
        "\n",
        "2. Missing/Null Values: There are missing or null values present in the dataset, particularly in the columns 'country', 'agent', and 'company'. These columns may have some entries that are empty or not filled in.\n",
        "\n",
        "3. Duplicate Rows: The dataset has duplicate rows, It returns the dataset has 31994 rows duplicates where each row represents is a duplicate values in \"duplicate_rows\" dataset.\n",
        "\n",
        "4. Unique Value Counts: The unique value counts for each column provide insights into the diversity and variability in the dataset. By examining these counts, i can understand the number of values present in each column and assess the data distribution."
      ],
      "metadata": {
        "id": "jxqgYE2EV26j"
      }
    },
    {
      "cell_type": "markdown",
      "source": [
        "## ***2. Understanding Your Variables***"
      ],
      "metadata": {
        "id": "nA9Y7ga8ng1Z"
      }
    },
    {
      "cell_type": "code",
      "source": [
        "# Dataset Columns\n",
        "hotel_df.columns"
      ],
      "metadata": {
        "id": "j7xfkqrt5Ag5"
      },
      "execution_count": null,
      "outputs": []
    },
    {
      "cell_type": "markdown",
      "source": [
        "1. \t\thotel: This variable represents the type of hotel (resort hotel, city hotel).\n",
        "2. \t\tis_canceled: This variable indicates whether a booking was canceled (0 = not canceled, 1 = canceled).\n",
        "3. \t\tlead_time: The number of days between the booking date and the arrival date.\n",
        "4. \t\tarrival_date_year: The year of the arrival date.\n",
        "5. \t\tarrival_date_month: The month of the arrival date.\n",
        "6. \t\tarrival_date_week_number: The week number of the arrival date.\n",
        "7. \t\tarrival_date_day_of_month: The day of the month of the arrival date.\n",
        "8. \t\tstays_in_weekend_nights: The number of weekend nights (Saturday or Sunday) the guest stayed.\n",
        "9. \t\tstays_in_week_nights: The number of weekday nights (Monday to Friday) the guest stayed.\n",
        "10. \t\tadults: The number of adults included in the booking.\n",
        "11. \t\tchildren: The number of children included in the booking.\n",
        "12. \t\tbabies: The number of babies included in the booking.\n",
        "13. \t\tmeal: The type of meal booked (e.g., Undefined/SC – no meal package, BB – Bed & Breakfast).\n",
        "14. \t\tcountry: The country of origin of the guest.\n",
        "15. \t\tmarket_segment: The market segment designation ( Online Travel Agents, Offline TA/TO).\n",
        "16. \t\tdistribution_channel: The booking distribution channel ( Direct, Corporate).\n",
        "17. \t\tis_repeated_guest: Indicates if the booking was made by a repeated guest (0 = not repeated, 1 = repeated).\n",
        "18. \t\tprevious_cancellations: The number of previous bookings canceled by the customer.\n",
        "19. \t\tprevious_bookings_not_canceled: The number of previous bookings not canceled by the customer.\n",
        "20. \t\treserved_room_type: The code for the type of room reserved.\n",
        "21. \t\tassigned_room_type: The code for the type of room assigned at check-in.\n",
        "22. \t\tbooking_changes: The number of changes or modifications made to the booking.\n",
        "23. \t\tdeposit_type: The type of deposit made for the reservation.\n",
        "24. \t\tagent: The ID of the travel agency that made the booking.\n",
        "25. \t\tcompany: The ID of the company/entity that made the booking or is responsible for payment.\n",
        "26. \t\tdays_in_waiting_list: The number of days the booking was on the waiting list.\n",
        "27. \t\tcustomer_type: The type of booking (Contract, Group, Transient).\n",
        "28. \t\tadr: The average daily rate (average price per night) of the booking.\n",
        "29. \t\trequired_car_parking_spaces: The number of car parking spaces requested by the guest.\n",
        "30. \t\ttotal_of_special_requests: The total number of special requests made by the guest.\n",
        "31. \t\treservation_status: The status of the reservation ( Canceled, Check-Out).\n",
        "32. \t\treservation_status_date: The date when the reservation status was last updated.\n",
        "\n"
      ],
      "metadata": {
        "id": "x_OWdQqedeT5"
      }
    },
    {
      "cell_type": "code",
      "source": [
        "# Dataset Describe\n",
        "hotel_df.describe()"
      ],
      "metadata": {
        "id": "DnOaZdaE5Q5t"
      },
      "execution_count": null,
      "outputs": []
    },
    {
      "cell_type": "markdown",
      "source": [
        "describe() function to calculate various statistics, including count, mean, standard deviation, minimum value, 25th percentile, median, 75th percentile, and maximum value."
      ],
      "metadata": {
        "id": "yDhkL7yagMCs"
      }
    },
    {
      "cell_type": "markdown",
      "source": [
        "### Variables Description"
      ],
      "metadata": {
        "id": "PBTbrJXOngz2"
      }
    },
    {
      "cell_type": "markdown",
      "source": [
        "1. \t\thotel: This variable represents the type of hotel (resort hotel, city hotel).\n",
        "2. \t\tis_canceled: This variable indicates whether a booking was canceled (0 = not canceled, 1 = canceled).\n",
        "3. \t\tlead_time: The number of days between the booking date and the arrival date.\n",
        "4. \t\tarrival_date_year: The year of the arrival date.\n",
        "5. \t\tarrival_date_month: The month of the arrival date.\n",
        "6. \t\tarrival_date_week_number: The week number of the arrival date.\n",
        "7. \t\tarrival_date_day_of_month: The day of the month of the arrival date.\n",
        "8. \t\tstays_in_weekend_nights: The number of weekend nights (Saturday or Sunday) the guest stayed.\n",
        "9. \t\tstays_in_week_nights: The number of weekday nights (Monday to Friday) the guest stayed.\n",
        "10. \t\tadults: The number of adults included in the booking.\n",
        "11. \t\tchildren: The number of children included in the booking.\n",
        "12. \t\tbabies: The number of babies included in the booking.\n",
        "13. \t\tmeal: The type of meal booked (e.g., Undefined/SC – no meal package, BB – Bed & Breakfast).\n",
        "14. \t\tcountry: The country of origin of the guest.\n",
        "15. \t\tmarket_segment: The market segment designation ( Online Travel Agents, Offline TA/TO).\n",
        "16. \t\tdistribution_channel: The booking distribution channel ( Direct, Corporate).\n",
        "17. \t\tis_repeated_guest: Indicates if the booking was made by a repeated guest (0 = not repeated, 1 = repeated).\n",
        "18. \t\tprevious_cancellations: The number of previous bookings canceled by the customer.\n",
        "19. \t\tprevious_bookings_not_canceled: The number of previous bookings not canceled by the customer.\n",
        "20. \t\treserved_room_type: The code for the type of room reserved.\n",
        "21. \t\tassigned_room_type: The code for the type of room assigned at check-in.\n",
        "22. \t\tbooking_changes: The number of changes or modifications made to the booking.\n",
        "23. \t\tdeposit_type: The type of deposit made for the reservation.\n",
        "24. \t\tagent: The ID of the travel agency that made the booking.\n",
        "25. \t\tcompany: The ID of the company/entity that made the booking or is responsible for payment.\n",
        "26. \t\tdays_in_waiting_list: The number of days the booking was on the waiting list.\n",
        "27. \t\tcustomer_type: The type of booking (Contract, Group, Transient).\n",
        "28. \t\tadr: The average daily rate (average price per night) of the booking.\n",
        "29. \t\trequired_car_parking_spaces: The number of car parking spaces requested by the guest.\n",
        "30. \t\ttotal_of_special_requests: The total number of special requests made by the guest.\n",
        "31. \t\treservation_status: The status of the reservation ( Canceled, Check-Out).\n",
        "32. \t\treservation_status_date: The date when the reservation status was last updated.\n",
        "\n"
      ],
      "metadata": {
        "id": "aJV4KIxSnxay"
      }
    },
    {
      "cell_type": "markdown",
      "source": [
        "### Check Unique Values for each variable."
      ],
      "metadata": {
        "id": "u3PMJOP6ngxN"
      }
    },
    {
      "cell_type": "code",
      "source": [
        "# Check Unique Values for each variable.\n",
        "hotel_df.nunique()"
      ],
      "metadata": {
        "id": "zms12Yq5n-jE"
      },
      "execution_count": null,
      "outputs": []
    },
    {
      "cell_type": "markdown",
      "source": [
        "\n",
        "Here are the unique value counts for each column.\n",
        "These unique value counts provide insights into the diversity and variability of values present in each column of the DataFrame."
      ],
      "metadata": {
        "id": "Kdw1QY_5tRSe"
      }
    },
    {
      "cell_type": "markdown",
      "source": [
        "## 3. ***Data Wrangling***"
      ],
      "metadata": {
        "id": "dauF4eBmngu3"
      }
    },
    {
      "cell_type": "markdown",
      "source": [
        "### Data Wrangling Code"
      ],
      "metadata": {
        "id": "bKJF3rekwFvQ"
      }
    },
    {
      "cell_type": "code",
      "source": [
        "# The drop_duplicates() function used to remove duplicate rows from a DataFrame. It returns a new DataFrame with duplicate rows removed.\n",
        "\n",
        "hotel_df = hotel_df.drop_duplicates()"
      ],
      "metadata": {
        "id": "nOOxpxKAxi4C"
      },
      "execution_count": null,
      "outputs": []
    },
    {
      "cell_type": "code",
      "source": [
        "hotel_df"
      ],
      "metadata": {
        "id": "rtarrQuGj3Nz"
      },
      "execution_count": null,
      "outputs": []
    },
    {
      "cell_type": "code",
      "source": [
        "hotel_df.shape"
      ],
      "metadata": {
        "id": "6pey7nN0jNNs"
      },
      "execution_count": null,
      "outputs": []
    },
    {
      "cell_type": "code",
      "source": [
        "# to find a Summary of the Dataframe if there is any Nan or missing values is present.\n",
        "hotel_df.info()"
      ],
      "metadata": {
        "id": "wk-9a2fpoLcV"
      },
      "execution_count": null,
      "outputs": []
    },
    {
      "cell_type": "code",
      "source": [
        "# to find a Null value in the Dataframe\n",
        "hotel_df.isnull().sum()"
      ],
      "metadata": {
        "id": "RG3cJnG9vfOC"
      },
      "execution_count": null,
      "outputs": []
    },
    {
      "cell_type": "markdown",
      "source": [
        "isnull().sum() function return the sum of all the mssing value in each columns\n",
        "1. country has 452 nan values\n",
        "2. agent has 12193 nan Values\n",
        "3. Company has 82137 nan Values"
      ],
      "metadata": {
        "id": "xGHyZC4ZknQl"
      }
    },
    {
      "cell_type": "code",
      "source": [
        "# This code will replace all the null values in the DataFrame hotel_df with the string '0'\n",
        "hotel_df.fillna('0',inplace=True)\n"
      ],
      "metadata": {
        "id": "8UKj6ublwjHN"
      },
      "execution_count": null,
      "outputs": []
    },
    {
      "cell_type": "code",
      "source": [
        "#Rechecked the Null values it has been replace NaN values with a 0 value.\n",
        "\n",
        "hotel_df.isnull().sum()"
      ],
      "metadata": {
        "id": "UVH-FMMC-b-4"
      },
      "execution_count": null,
      "outputs": []
    },
    {
      "cell_type": "markdown",
      "source": [
        "After executing this line of code, any missing or null values in the DataFrame will be replaced with '0'."
      ],
      "metadata": {
        "id": "ldsS1otK-SAU"
      }
    },
    {
      "cell_type": "markdown",
      "source": [
        "1. info(), to find a summary of the dataset.\n",
        "2. isnull().sum(), to find out the null or missing value in the detaset,the result will be a Series that shows the column-wise count of missing or null values.\n",
        "3. fillna() this code will replace all the null values in the dataset with \"0\"\n",
        "4. drop_duplicates() function to remove duplicates rows from a dataset and it returns a new dataset with duplicate rows removed.\n",
        "\n",
        "\n"
      ],
      "metadata": {
        "id": "1vPQSTXHxPsa"
      }
    },
    {
      "cell_type": "code",
      "source": [
        "hotel_df"
      ],
      "metadata": {
        "id": "-3skWu3a0vMq"
      },
      "execution_count": null,
      "outputs": []
    },
    {
      "cell_type": "code",
      "source": [
        "hotel_df.shape"
      ],
      "metadata": {
        "id": "9X3GsoMY0Xqa"
      },
      "execution_count": null,
      "outputs": []
    },
    {
      "cell_type": "markdown",
      "source": [
        "# Observations\n",
        "Before removing duplicates and data cleaning, the DataFrame had 119,390 rows and 32 columns. After dropping the duplicates, the DataFrame now contains 87,396 rows and still maintains the same 32 columns. Therefore, a total of 31,994 duplicate rows were identified and removed from the DataFrame."
      ],
      "metadata": {
        "id": "LbyXE7I1olp8"
      }
    },
    {
      "cell_type": "code",
      "source": [
        "hotel_df.nunique()"
      ],
      "metadata": {
        "id": "l0zx2RkaFRgD"
      },
      "execution_count": null,
      "outputs": []
    },
    {
      "cell_type": "markdown",
      "source": [
        "The nunique() function is helpful for understanding the uniqueness of values in your dataset, identifying categorical variables, or detecting columns with a low number of distinct values. You can use this information to guide further data exploration, preprocessing, or analysis tasks."
      ],
      "metadata": {
        "id": "wGz95zofFoA0"
      }
    },
    {
      "cell_type": "markdown",
      "source": [
        "\n",
        "\n",
        "This below piece of codes on each variables shows the unique values in the  each column as the index and their corresponding counts as a values. This information is useful for understanding the distribution,helpful when working with categorical variables. Let’s check the all important columns unique value counts in each column."
      ],
      "metadata": {
        "id": "SlpIpZq2nm6C"
      }
    },
    {
      "cell_type": "code",
      "source": [
        "hotel_df['hotel'].value_counts()"
      ],
      "metadata": {
        "id": "igzKt8Hl5-LU"
      },
      "execution_count": null,
      "outputs": []
    },
    {
      "cell_type": "code",
      "source": [
        "hotel_df['is_canceled'].value_counts()"
      ],
      "metadata": {
        "id": "R0MK8J_15-AU"
      },
      "execution_count": null,
      "outputs": []
    },
    {
      "cell_type": "code",
      "source": [
        "hotel_df['arrival_date_year'].value_counts()"
      ],
      "metadata": {
        "id": "BqHrGxP5Gdpr"
      },
      "execution_count": null,
      "outputs": []
    },
    {
      "cell_type": "code",
      "source": [
        "hotel_df['adults'].value_counts()"
      ],
      "metadata": {
        "id": "vJkuAwoTelSG"
      },
      "execution_count": null,
      "outputs": []
    },
    {
      "cell_type": "code",
      "source": [
        "hotel_df['children'].value_counts()"
      ],
      "metadata": {
        "id": "bkXElbgdelDJ"
      },
      "execution_count": null,
      "outputs": []
    },
    {
      "cell_type": "code",
      "source": [
        "hotel_df['babies'].value_counts()"
      ],
      "metadata": {
        "id": "bh2cnyIBekv9"
      },
      "execution_count": null,
      "outputs": []
    },
    {
      "cell_type": "code",
      "source": [
        "hotel_df['meal'].value_counts()"
      ],
      "metadata": {
        "id": "MxaDuAr8GdeF"
      },
      "execution_count": null,
      "outputs": []
    },
    {
      "cell_type": "code",
      "source": [
        "# meal column has \"undefined\" value which is equal to SC (no breakfast) so instead of having to different value we combined both\n",
        "hotel_df.replace('Undefined','SC',inplace = True)"
      ],
      "metadata": {
        "id": "xPvtcyqu5-hP"
      },
      "execution_count": null,
      "outputs": []
    },
    {
      "cell_type": "markdown",
      "source": [
        "# observation\n",
        "meal column has \"undefined\" value which is equal to SC (no breakfast) so instead of having two different value we combined both. so here we have \"undefined\" value replace with \"SC\". after combined it now we have four meal type.as you can see in below. now total value count for \"SC\" is 9973."
      ],
      "metadata": {
        "id": "2wLKafgFoaO6"
      }
    },
    {
      "cell_type": "code",
      "source": [
        "hotel_df['meal'].unique()"
      ],
      "metadata": {
        "id": "u7oEi6Bh5-Pj"
      },
      "execution_count": null,
      "outputs": []
    },
    {
      "cell_type": "code",
      "source": [
        "# we combined both values of meal\n",
        "hotel_df['meal'].value_counts()"
      ],
      "metadata": {
        "id": "PWGxpmAtGdaR"
      },
      "execution_count": null,
      "outputs": []
    },
    {
      "cell_type": "code",
      "source": [
        "hotel_df['market_segment'].value_counts()"
      ],
      "metadata": {
        "id": "rnOQ_Xi5GdWZ"
      },
      "execution_count": null,
      "outputs": []
    },
    {
      "cell_type": "code",
      "source": [
        "hotel_df['distribution_channel'].value_counts()"
      ],
      "metadata": {
        "id": "9tFzn0RzGdTV"
      },
      "execution_count": null,
      "outputs": []
    },
    {
      "cell_type": "code",
      "source": [
        "hotel_df['is_repeated_guest'].value_counts()"
      ],
      "metadata": {
        "id": "xUq2AcT8GdPE"
      },
      "execution_count": null,
      "outputs": []
    },
    {
      "cell_type": "code",
      "source": [
        "hotel_df['deposit_type'].value_counts()"
      ],
      "metadata": {
        "id": "CC8cRgGrGdJU"
      },
      "execution_count": null,
      "outputs": []
    },
    {
      "cell_type": "code",
      "source": [
        "hotel_df['customer_type'].value_counts()"
      ],
      "metadata": {
        "id": "9dDPSZPKGdF6"
      },
      "execution_count": null,
      "outputs": []
    },
    {
      "cell_type": "code",
      "source": [
        "hotel_df['required_car_parking_spaces'].value_counts()"
      ],
      "metadata": {
        "id": "iL9Sz8erGc9c"
      },
      "execution_count": null,
      "outputs": []
    },
    {
      "cell_type": "code",
      "source": [
        "hotel_df['reservation_status'].value_counts()"
      ],
      "metadata": {
        "id": "HAa4zMqWGcy8"
      },
      "execution_count": null,
      "outputs": []
    },
    {
      "cell_type": "code",
      "source": [
        "hotel_df['total_of_special_requests'].value_counts()"
      ],
      "metadata": {
        "id": "Y0iCgFNgGcg_"
      },
      "execution_count": null,
      "outputs": []
    },
    {
      "cell_type": "code",
      "source": [
        "\n",
        "# Calculate the total number of hotel bookings in weekend nights\n",
        "total_weekend_nights = hotel_df['stays_in_weekend_nights'].sum()\n",
        "\n",
        "# Calculate the total number of hotel bookings in weekday nights\n",
        "total_week_nights = hotel_df['stays_in_week_nights'].sum()\n",
        "\n",
        "print(f\"Total hotel bookings in weekend nights: {total_weekend_nights}\")\n",
        "print(f\"Total hotel bookings in weekday nights:{total_week_nights}\")\n"
      ],
      "metadata": {
        "id": "l80lliVJIFC6"
      },
      "execution_count": null,
      "outputs": []
    },
    {
      "cell_type": "code",
      "source": [
        "# Calculate the total cancellations for each hotel type\n",
        "cancellations_by_hotel = hotel_df[hotel_df['is_canceled']==1].groupby('hotel').size()\n",
        "\n",
        "print(f\"Total cancellations by hotel type:{cancellations_by_hotel}\")\n",
        "\n"
      ],
      "metadata": {
        "id": "JVOqBHmtIiwc"
      },
      "execution_count": null,
      "outputs": []
    },
    {
      "cell_type": "code",
      "source": [
        "# Calculate the total number of bookings\n",
        "total_bookings = len(hotel_df)\n",
        "\n",
        "# Calculate the total number of canceled bookings\n",
        "total_canceled_bookings = len(hotel_df[hotel_df['is_canceled'] == 1])\n",
        "\n",
        "# Calculate the cancellation rate\n",
        "cancellation_rate = total_canceled_bookings / total_bookings\n",
        "\n",
        "print(f\"Overall cancellation rate:{cancellation_rate}\")\n"
      ],
      "metadata": {
        "id": "1NVxnqZfNEWa"
      },
      "execution_count": null,
      "outputs": []
    },
    {
      "cell_type": "code",
      "source": [
        "# Calculate the ADR per hotel\n",
        "adr_per_hotel = hotel_df.groupby('hotel')['adr'].mean()\n",
        "\n",
        "print(f\"ADR per hotel: {adr_per_hotel}\")\n",
        "\n"
      ],
      "metadata": {
        "id": "IMvU_JiKL32k"
      },
      "execution_count": null,
      "outputs": []
    },
    {
      "cell_type": "code",
      "source": [
        "# the average number of adults per booking\n",
        "average_adults = hotel_df['adults'].mean()\n",
        "\n",
        "# the average number of babies per booking\n",
        "average_babies = hotel_df['babies'].mean()\n",
        "\n",
        "print(f\"Average number of adults per booking: {average_adults}\")\n",
        "print(f\"Average number of babies per booking: {average_babies}\")\n"
      ],
      "metadata": {
        "id": "3pd4AFN8QMHZ"
      },
      "execution_count": null,
      "outputs": []
    },
    {
      "cell_type": "code",
      "source": [
        "# which room types are booked most\n",
        "num_reserved_room_types = hotel_df['reserved_room_type'].value_counts()\n",
        "num_reserved_room_types"
      ],
      "metadata": {
        "id": "CVkhEqg6YRq9"
      },
      "execution_count": null,
      "outputs": []
    },
    {
      "cell_type": "code",
      "source": [
        "# Calculate the ADR per room\n",
        "adr_per_room = hotel_df.groupby('reserved_room_type')['adr'].mean()\n",
        "\n",
        "print(f\"ADR per room:{adr_per_room}\")\n"
      ],
      "metadata": {
        "id": "CTPahSlJR_yv"
      },
      "execution_count": null,
      "outputs": []
    },
    {
      "cell_type": "code",
      "source": [
        "# Calculate the average number of special requests per booking\n",
        "average_special_requests = hotel_df['total_of_special_requests'].mean()\n",
        "\n",
        "print(f\"Average number of special requests per booking:{average_special_requests}\")\n"
      ],
      "metadata": {
        "id": "V6GwMdOiZAzp"
      },
      "execution_count": null,
      "outputs": []
    },
    {
      "cell_type": "code",
      "source": [
        "# What are the different deposit types used for bookings.\n",
        "deposit_types = hotel_df['deposit_type'].unique()\n",
        "\n",
        "print(f\"Different deposit types used for bookings:{deposit_types}\")"
      ],
      "metadata": {
        "id": "yPLt3sXUa-D6"
      },
      "execution_count": null,
      "outputs": []
    },
    {
      "cell_type": "code",
      "source": [
        "# average daily rate (ADR) for each customer type\n",
        "adr_by_customer_type = hotel_df.groupby('customer_type')['adr'].mean()\n",
        "\n",
        "print(f\"Average Daily Rate (ADR) by Customer Type:{adr_by_customer_type}\")\n"
      ],
      "metadata": {
        "id": "Fjr3eugrdKxs"
      },
      "execution_count": null,
      "outputs": []
    },
    {
      "cell_type": "markdown",
      "source": [
        "### What all manipulations have you done and insights you found?\n",
        "\n",
        "1. Handling Null Values: Identified several columns with null values, such as 'children', 'country', 'agent', and 'company'. One manipulation you performed was filling the null values with the string '0'. However, it's important to carefully consider the appropriate way to handle missing values based on the nature of the data and the context of the problem.\n",
        "2. Dropping Duplicates: Mentioned dropping duplicate rows from the dataset, resulting in a reduced number of rows from 119,390 to 87,396. This manipulation helps ensure data integrity and remove redundant information. It could be important to investigate the reason for duplicates and determine if dropping them is the correct approach for analysis.\n",
        "3. Value Counts: The function on several columns, such as 'hotel', 'required_car_parking_spaces', 'market_segment', 'distribution_channel', 'deposit_type', 'customer_type', and 'reservation_status'. This manipulation provides insights into the distribution and frequency of different values within each column. For example, it helps identify the most common types of hotels, the number of car parking spaces required, the prevalence of different market segments, distribution channels, deposit types, customer types, and reservation statuses.\n",
        "4. Unique Value Counts: Function to count the number of unique values in each column. This manipulation provides insights into the diversity and distinctiveness of values within each column. For example, it helps identify the number of unique countries, different types of rooms, unique agents, and companies.\n",
        "5. These manipulations can provide initial insights into the dataset, allowing to understand the distribution of values, identify patterns or trends, and potentially guide further analysis or decision-making processes.\n",
        "\n",
        "\n",
        "\n",
        "\n",
        "\n",
        "\n"
      ],
      "metadata": {
        "id": "MSa1f5Uengrz"
      }
    },
    {
      "cell_type": "markdown",
      "source": [
        "## ***4. Data Vizualization, Storytelling & Experimenting with charts : Understand the relationships between variables***"
      ],
      "metadata": {
        "id": "GF8Ens_Soomf"
      }
    },
    {
      "cell_type": "markdown",
      "source": [
        "#### Chart - 1. distribution of hotel types in the dataset."
      ],
      "metadata": {
        "id": "0wOQAZs5pc--"
      }
    },
    {
      "cell_type": "code",
      "source": [
        "# Chart - 1 visualization code\n",
        "# countplot\n",
        "sns.countplot(data= hotel_df,x= 'hotel')\n",
        "plt.show()"
      ],
      "metadata": {
        "id": "7v_ESjsspbW7"
      },
      "execution_count": null,
      "outputs": []
    },
    {
      "cell_type": "markdown",
      "source": [
        "##### 1. Why did you pick the specific chart?\n",
        "Using a countplot on the 'hotel' column helps us understand the distribution of hotel types in the dataset. It allows us to visually compare the number of occurrences of each hotel type. i.e Resort Hotel and city Hotel we can see here city Hotel has more occurrence then the Resort Hotel."
      ],
      "metadata": {
        "id": "K5QZ13OEpz2H"
      }
    },
    {
      "cell_type": "markdown",
      "source": [
        "##### 2. What is/are the insight(s) found from the chart?"
      ],
      "metadata": {
        "id": "lQ7QKXXCp7Bj"
      }
    },
    {
      "cell_type": "markdown",
      "source": [
        "City Hotel Occurrence: Based on the countplot, it appears that the City Hotel has a higher occurrence compared to the Resort Hotel. This suggests that the dataset contains a larger number of records or instances associated with the City Hotel."
      ],
      "metadata": {
        "id": "C_j1G7yiqdRP"
      }
    },
    {
      "cell_type": "markdown",
      "source": [
        "##### 3. Will the gained insights help creating a positive business impact?\n",
        "Are there any insights that lead to negative growth? Justify with specific reason."
      ],
      "metadata": {
        "id": "448CDAPjqfQr"
      }
    },
    {
      "cell_type": "markdown",
      "source": [
        "The countplot reveals the distribution and frequency of hotel types, indicating the popularity and demand for each type. This information can be used to understand customer preferences and tailor marketing strategies accordingly. It allows businesses to allocate resources effectively and provide services that align with customer needs."
      ],
      "metadata": {
        "id": "3cspy4FjqxJW"
      }
    },
    {
      "cell_type": "markdown",
      "source": [
        "#### Chart - 2  the majority of guests fall into the category of \"no repeated guest\""
      ],
      "metadata": {
        "id": "KSlN3yHqYklG"
      }
    },
    {
      "cell_type": "code",
      "source": [
        "# Chart - 2 visualization code\n",
        "sns.countplot(data = hotel_df, x = 'is_canceled',hue = 'is_repeated_guest')\n",
        "plt.show()"
      ],
      "metadata": {
        "id": "R4YgtaqtYklH"
      },
      "execution_count": null,
      "outputs": []
    },
    {
      "cell_type": "markdown",
      "source": [
        "##### 1. Why did you pick the specific chart?"
      ],
      "metadata": {
        "id": "t6dVpIINYklI"
      }
    },
    {
      "cell_type": "markdown",
      "source": [
        "The countplot reveals a distinct pattern where the majority of guests fall into the category of \"no repeated guest\" (the value 0), while a significantly smaller number of guests are classified as \"is repeated guest\" (the value 1). Additionally, a considerable portion of the bookings has been canceled."
      ],
      "metadata": {
        "id": "5aaW0BYyYklI"
      }
    },
    {
      "cell_type": "markdown",
      "source": [
        "##### 2. What is/are the insight(s) found from the chart?"
      ],
      "metadata": {
        "id": "ijmpgYnKYklI"
      }
    },
    {
      "cell_type": "markdown",
      "source": [
        "Comparison of Occurrences: It presents the information in a straightforward manner, making it easy to identify any disparities in the frequencies of different categories."
      ],
      "metadata": {
        "id": "PSx9atu2YklI"
      }
    },
    {
      "cell_type": "markdown",
      "source": [
        "##### 3. Will the gained insights help creating a positive business impact?\n",
        "Are there any insights that lead to negative growth? Justify with specific reason."
      ],
      "metadata": {
        "id": "-JiQyfWJYklI"
      }
    },
    {
      "cell_type": "markdown",
      "source": [
        "Targeted Marketing and Communication: Differentiating between repeated and non-repeated guests in terms of their cancellation behavior allows the business to make marketing and communication strategies accordingly."
      ],
      "metadata": {
        "id": "BcBbebzrYklV"
      }
    },
    {
      "cell_type": "markdown",
      "source": [
        "#### Chart - 3. the distribution of canceled and non-canceled bookings across different hotel types"
      ],
      "metadata": {
        "id": "EM7whBJCYoAo"
      }
    },
    {
      "cell_type": "code",
      "source": [
        "# Chart - 3 visualization code\n",
        "sns.countplot(data = hotel_df, x= 'hotel', hue= 'is_canceled')\n",
        "plt.show()"
      ],
      "metadata": {
        "id": "t6GMdE67YoAp"
      },
      "execution_count": null,
      "outputs": []
    },
    {
      "cell_type": "markdown",
      "source": [
        "##### 1. Why did you pick the specific chart?"
      ],
      "metadata": {
        "id": "fge-S5ZAYoAp"
      }
    },
    {
      "cell_type": "markdown",
      "source": [
        "These counts provide insights into the distribution of canceled and non-canceled bookings across different hotel types. From the chart, we can observe that the count of non-canceled bookings is higher for both 'city hotel' and 'resort hotel' compared to the count of canceled bookings. However, we can also observe that the count of canceled bookings is higher for the 'city hotel' category, compared to the 'resort hotel' category."
      ],
      "metadata": {
        "id": "5dBItgRVYoAp"
      }
    },
    {
      "cell_type": "markdown",
      "source": [
        "##### 2. What is/are the insight(s) found from the chart?"
      ],
      "metadata": {
        "id": "85gYPyotYoAp"
      }
    },
    {
      "cell_type": "markdown",
      "source": [
        "The countplot enables us to observe if there are any variations in cancellation patterns across different types of hotels."
      ],
      "metadata": {
        "id": "4jstXR6OYoAp"
      }
    },
    {
      "cell_type": "markdown",
      "source": [
        "##### 3. Will the gained insights help creating a positive business impact?\n",
        "Are there any insights that lead to negative growth? Justify with specific reason."
      ],
      "metadata": {
        "id": "RoGjAbkUYoAp"
      }
    },
    {
      "cell_type": "markdown",
      "source": [
        "The business can focus on implementing targeted strategies to reduce cancellations for those specific hotel types. This may include offering personalized incentives, improving the booking experience, or providing additional value-added services to encourage guests to commit to their bookings. These targeted efforts can help increase customer satisfaction, loyalty, and ultimately lead to higher bookings and revenue."
      ],
      "metadata": {
        "id": "zfJ8IqMcYoAp"
      }
    },
    {
      "cell_type": "markdown",
      "source": [
        "#### Chart - 4. Top 20, Bookings per Country"
      ],
      "metadata": {
        "id": "4Of9eVA-YrdM"
      }
    },
    {
      "cell_type": "code",
      "source": [
        "# Chart - 4 visualization code\n",
        "# Group the data by 'country' and count the number of occurrences\n",
        "country_counts = hotel_df['country'].value_counts().head(20)\n",
        "\n",
        "# Plotting the bar chart\n",
        "sns.barplot(x=country_counts.index, y=country_counts.values)\n",
        "plt.xlabel('Country')\n",
        "plt.ylabel('Number of Bookings')\n",
        "plt.title(' Top 20 Number of Bookings per Country')\n",
        "plt.xticks(rotation=90)  # Rotating the x-axis labels for better visibility\n",
        "plt.show()\n",
        "\n"
      ],
      "metadata": {
        "id": "irlUoxc8YrdO"
      },
      "execution_count": null,
      "outputs": []
    },
    {
      "cell_type": "markdown",
      "source": [
        "##### 1. Why did you pick the specific chart?"
      ],
      "metadata": {
        "id": "iky9q4vBYrdO"
      }
    },
    {
      "cell_type": "markdown",
      "source": [
        "The resulting bar chart will show the number of bookings for each country, allowing to identify the country with the highest number of bookings based on the height of the bars. we can also observe the relative number of bookings for other countries by comparing the bar heights."
      ],
      "metadata": {
        "id": "aJRCwT6DYrdO"
      }
    },
    {
      "cell_type": "markdown",
      "source": [
        "##### 2. What is/are the insight(s) found from the chart?"
      ],
      "metadata": {
        "id": "F6T5p64dYrdO"
      }
    },
    {
      "cell_type": "markdown",
      "source": [
        "Top 20 Countries: The chart specifically focuses on the top 20 countries with the highest number of bookings. By highlighting the top countries, the chart provides insights into the countries that contribute the most to the overall booking volume. This information can help prioritize marketing efforts, allocate resources, and target specific regions for business expansion."
      ],
      "metadata": {
        "id": "Xx8WAJvtYrdO"
      }
    },
    {
      "cell_type": "markdown",
      "source": [
        "##### 3. Will the gained insights help creating a positive business impact?\n",
        "Are there any insights that lead to negative growth? Justify with specific reason."
      ],
      "metadata": {
        "id": "y-Ehk30pYrdP"
      }
    },
    {
      "cell_type": "markdown",
      "source": [
        "Targeted Marketing: By understanding the top 20 countries with high booking volume, the business can focus its marketing efforts and allocate resources effectively. Targeted marketing campaigns tailored to those countries can lead to increased brand awareness, customer engagement, and bookings."
      ],
      "metadata": {
        "id": "jLNxxz7MYrdP"
      }
    },
    {
      "cell_type": "markdown",
      "source": [
        "#### Chart - 5. How does the lead time vary across different hotel types?"
      ],
      "metadata": {
        "id": "bamQiAODYuh1"
      }
    },
    {
      "cell_type": "code",
      "source": [
        "# Chart - 5 visualization code\n",
        "sns.boxplot(data=hotel_df, x='hotel', y='lead_time')\n",
        "plt.xlabel('Hotel Type')\n",
        "plt.ylabel('Lead Time')\n",
        "plt.title('Lead Time Variation Across Hotel Types')\n",
        "plt.show()\n",
        "\n"
      ],
      "metadata": {
        "id": "TIJwrbroYuh3"
      },
      "execution_count": null,
      "outputs": []
    },
    {
      "cell_type": "markdown",
      "source": [
        "##### 1. Why did you pick the specific chart?"
      ],
      "metadata": {
        "id": "QHF8YVU7Yuh3"
      }
    },
    {
      "cell_type": "markdown",
      "source": [
        "The boxplot chart illustrates the variation in lead time (the duration between booking and arrival) across different hotel types."
      ],
      "metadata": {
        "id": "dcxuIMRPYuh3"
      }
    },
    {
      "cell_type": "markdown",
      "source": [
        "##### 2. What is/are the insight(s) found from the chart?"
      ],
      "metadata": {
        "id": "GwzvFGzlYuh3"
      }
    },
    {
      "cell_type": "markdown",
      "source": [
        "The insights from the chart can guide setting appropriate guest expectations. By understanding the average lead time for different hotel types, the business can communicate realistic expectations to guests, especially regarding the time required for booking confirmation and preparation before arrival."
      ],
      "metadata": {
        "id": "uyqkiB8YYuh3"
      }
    },
    {
      "cell_type": "markdown",
      "source": [
        "##### 3. Will the gained insights help creating a positive business impact?\n",
        "Are there any insights that lead to negative growth? Justify with specific reason."
      ],
      "metadata": {
        "id": "qYpmQ266Yuh3"
      }
    },
    {
      "cell_type": "markdown",
      "source": [
        "By understanding the average lead time for different hotel types, the business can communicate realistic expectations to guests, especially regarding the time required for booking confirmation and preparation before arrival."
      ],
      "metadata": {
        "id": "_WtzZ_hCYuh4"
      }
    },
    {
      "cell_type": "markdown",
      "source": [
        "#### Chart - 6 What is the cancellation rate for each hotel type?"
      ],
      "metadata": {
        "id": "OH-pJp9IphqM"
      }
    },
    {
      "cell_type": "code",
      "source": [
        "# Chart - 6 visualization code\n",
        "\n",
        "# Calculate the cancellation rate for each hotel type\n",
        "cancellation_rates = hotel_df.groupby('hotel')['is_canceled'].mean()\n",
        "\n",
        "# Plotting the stacked bar chart\n",
        "sns.barplot(x=cancellation_rates.index, y=cancellation_rates.values)\n",
        "plt.xlabel('Hotel Type')\n",
        "plt.ylabel('Cancellation Rate')\n",
        "plt.title('Cancellation Rate by Hotel Type')\n",
        "plt.show()\n"
      ],
      "metadata": {
        "id": "kuRf4wtuphqN"
      },
      "execution_count": null,
      "outputs": []
    },
    {
      "cell_type": "markdown",
      "source": [
        "##### 1. Why did you pick the specific chart?"
      ],
      "metadata": {
        "id": "bbFf2-_FphqN"
      }
    },
    {
      "cell_type": "markdown",
      "source": [
        "The resulting stacked bar chart will show the cancellation rate for each hotel type, as compared to resort hotel city hotel has more cancellation rate.  can compare the heights of the bars to observe the relative cancellation rates for city and resort hotel."
      ],
      "metadata": {
        "id": "loh7H2nzphqN"
      }
    },
    {
      "cell_type": "markdown",
      "source": [
        "##### 2. What is/are the insight(s) found from the chart?"
      ],
      "metadata": {
        "id": "_ouA3fa0phqN"
      }
    },
    {
      "cell_type": "markdown",
      "source": [
        "The cancellation rates can serve as a performance indicator for each hotel type. Higher cancellation rates might indicate potential issues in terms of customer satisfaction, pricing, service quality, or booking policies. Identifying hotel types with higher cancellation rates can trigger further analysis and targeted improvements to address the underlying causes."
      ],
      "metadata": {
        "id": "VECbqPI7phqN"
      }
    },
    {
      "cell_type": "markdown",
      "source": [
        "##### 3. Will the gained insights help creating a positive business impact?\n",
        "Are there any insights that lead to negative growth? Justify with specific reason."
      ],
      "metadata": {
        "id": "Seke61FWphqN"
      }
    },
    {
      "cell_type": "markdown",
      "source": [
        "The insights gained from the cancellation rates can guide strategic decision-making processes. The business can allocate resources, prioritize improvements, and develop targeted marketing campaigns based on the cancellation behavior observed across different hotel types."
      ],
      "metadata": {
        "id": "DW4_bGpfphqN"
      }
    },
    {
      "cell_type": "markdown",
      "source": [
        "#### Chart - 7  Which month have the highest number of bookings by using lineplot\n"
      ],
      "metadata": {
        "id": "PIIx-8_IphqN"
      }
    },
    {
      "cell_type": "code",
      "source": [
        "# Chart - 7 visualization code\n",
        "#Group the data by 'arrival_date_month' and count the number of occurrences\n",
        "monthly_bookings = hotel_df['arrival_date_month'].value_counts().sort_index()\n",
        "#plotting the line plot\n",
        "sns.lineplot(x= monthly_bookings.index, y = monthly_bookings.values)\n",
        "plt.xlabel('month')\n",
        "plt.ylabel('Number of Bookings')\n",
        "plt.title('number of Bookings by Month')\n",
        "plt.xticks(rotation = 90)\n",
        "plt.show()"
      ],
      "metadata": {
        "id": "lqAIGUfyphqO"
      },
      "execution_count": null,
      "outputs": []
    },
    {
      "cell_type": "markdown",
      "source": [
        "##### 1. Why did you pick the specific chart?"
      ],
      "metadata": {
        "id": "t27r6nlMphqO"
      }
    },
    {
      "cell_type": "markdown",
      "source": [
        "line plot will show the trend of the number of bookings across different months. By examining the line, we can identify the months with the highest number of bookings based on the peaks or higher points on the line"
      ],
      "metadata": {
        "id": "iv6ro40sphqO"
      }
    },
    {
      "cell_type": "markdown",
      "source": [
        "##### 2. What is/are the insight(s) found from the chart?"
      ],
      "metadata": {
        "id": "r2jJGEOYphqO"
      }
    },
    {
      "cell_type": "markdown",
      "source": [
        "The line plot effectively displays the trend of booking counts over the months. It allows for a visual examination of the variations and patterns in booking volumes over time."
      ],
      "metadata": {
        "id": "Po6ZPi4hphqO"
      }
    },
    {
      "cell_type": "markdown",
      "source": [
        "##### 3. Will the gained insights help creating a positive business impact?\n",
        "Are there any insights that lead to negative growth? Justify with specific reason."
      ],
      "metadata": {
        "id": "b0JNsNcRphqO"
      }
    },
    {
      "cell_type": "markdown",
      "source": [
        "Analyzing the line plot enables the business to plan and allocate resources accordingly. If certain months consistently show higher booking counts, the business can focus marketing efforts, promotional activities, and operational planning during those months to maximize revenue and customer satisfaction."
      ],
      "metadata": {
        "id": "xvSq8iUTphqO"
      }
    },
    {
      "cell_type": "markdown",
      "source": [
        "#### Chart - 8. Number of Bookings by Month by using barplot"
      ],
      "metadata": {
        "id": "BZR9WyysphqO"
      }
    },
    {
      "cell_type": "code",
      "source": [
        "# Chart - 8 visualization code\n",
        "\n",
        "# Group the data by 'arrival_date_month' and count the number of occurrences\n",
        "monthly_bookings = hotel_df['arrival_date_month'].value_counts().sort_index()\n",
        "\n",
        "# Plotting the bar plot\n",
        "sns.barplot(x=monthly_bookings.index, y=monthly_bookings.values)\n",
        "plt.xlabel('Month')\n",
        "plt.ylabel('Number of Bookings')\n",
        "plt.title('Number of Bookings by Month')\n",
        "plt.xticks(rotation=90)\n",
        "plt.show()\n"
      ],
      "metadata": {
        "id": "TdPTWpAVphqO"
      },
      "execution_count": null,
      "outputs": []
    },
    {
      "cell_type": "markdown",
      "source": [
        "##### 1. Why did you pick the specific chart?"
      ],
      "metadata": {
        "id": "jj7wYXLtphqO"
      }
    },
    {
      "cell_type": "markdown",
      "source": [
        "This is as same as line plot nothing different.By visualizing the bar plot, we can easily compare the number of bookings across different months and identify any variations or trends in the booking patterns throughout the year."
      ],
      "metadata": {
        "id": "Ob8u6rCTphqO"
      }
    },
    {
      "cell_type": "markdown",
      "source": [
        "##### 2. What is/are the insight(s) found from the chart?"
      ],
      "metadata": {
        "id": "eZrbJ2SmphqO"
      }
    },
    {
      "cell_type": "markdown",
      "source": [
        "he box plot effectively displays the trend of booking counts over the months. It allows for a visual examination of the variations and patterns in booking volumes over time."
      ],
      "metadata": {
        "id": "mZtgC_hjphqO"
      }
    },
    {
      "cell_type": "markdown",
      "source": [
        "##### 3. Will the gained insights help creating a positive business impact?\n",
        "Are there any insights that lead to negative growth? Justify with specific reason."
      ],
      "metadata": {
        "id": "rFu4xreNphqO"
      }
    },
    {
      "cell_type": "markdown",
      "source": [
        "Business Planning: Analyzing the box plot enables the business to plan and allocate resources accordingly. If certain months consistently show higher booking counts, the business can focus marketing efforts, promotional activities, and operational planning during those months to maximize revenue and customer satisfaction."
      ],
      "metadata": {
        "id": "ey_0qi68phqO"
      }
    },
    {
      "cell_type": "markdown",
      "source": [
        "#### Chart - 9 the distribution of stays in weekend nights and compare it between city hotels and resort hotels"
      ],
      "metadata": {
        "id": "YJ55k-q6phqO"
      }
    },
    {
      "cell_type": "code",
      "source": [
        "# Chart - 9 visualization code\n",
        "\n",
        "sns.boxplot(data = hotel_df, x = 'hotel',y= 'stays_in_weekend_nights')\n",
        "plt.xlabel('Hotel type')\n",
        "plt.ylabel('Weekend night')\n",
        "plt.title('Distribution of Stays in Weekend Nights by Hotel Type')\n",
        "plt.show()"
      ],
      "metadata": {
        "id": "B2aS4O1ophqO"
      },
      "execution_count": null,
      "outputs": []
    },
    {
      "cell_type": "markdown",
      "source": [
        "##### 1. Why did you pick the specific chart?"
      ],
      "metadata": {
        "id": "gCFgpxoyphqP"
      }
    },
    {
      "cell_type": "markdown",
      "source": [
        "By comparing the boxplots for city hotels and resort hotels, we can visually analyze the differences in the distribution of stays in weekend nights between the two types of hotels. for both the distribution is allmost same for both type of hotels."
      ],
      "metadata": {
        "id": "TVxDimi2phqP"
      }
    },
    {
      "cell_type": "markdown",
      "source": [
        "##### 2. What is/are the insight(s) found from the chart?"
      ],
      "metadata": {
        "id": "OVtJsKN_phqQ"
      }
    },
    {
      "cell_type": "markdown",
      "source": [
        "By comparing the heights and shapes of the boxes, as well as the whiskers, you can assess the overall distribution of stays in weekend nights between city hotels and resort hotels. If the boxes are similar in height and shape and the whiskers are similar in length, it suggests that the distributions are relatively similar."
      ],
      "metadata": {
        "id": "ngGi97qjphqQ"
      }
    },
    {
      "cell_type": "markdown",
      "source": [
        "##### 3. Will the gained insights help creating a positive business impact?\n",
        "Are there any insights that lead to negative growth? Justify with specific reason."
      ],
      "metadata": {
        "id": "lssrdh5qphqQ"
      }
    },
    {
      "cell_type": "markdown",
      "source": [
        "The insights gained from the box plot can assist in resource allocation. If there are significant differences in stays in weekend nights, the business can allocate resources such as staff, inventory, and services accordingly to meet the demands and expectations of guests in each hotel type."
      ],
      "metadata": {
        "id": "tBpY5ekJphqQ"
      }
    },
    {
      "cell_type": "markdown",
      "source": [
        "#### Chart - 10. Distribution of Stays in Week Nights by Hotel Type"
      ],
      "metadata": {
        "id": "U2RJ9gkRphqQ"
      }
    },
    {
      "cell_type": "code",
      "source": [
        "# Chart - 10 visualization code\n",
        "sns.boxplot(data = hotel_df, x = 'hotel',y= 'stays_in_week_nights')\n",
        "plt.xlabel('Hotel type')\n",
        "plt.ylabel('Week nights')\n",
        "plt.title('Distribution of Stays in Week Nights by Hotel Type')\n",
        "plt.show()\n"
      ],
      "metadata": {
        "id": "GM7a4YP4phqQ"
      },
      "execution_count": null,
      "outputs": []
    },
    {
      "cell_type": "markdown",
      "source": [
        "##### 1. Why did you pick the specific chart?"
      ],
      "metadata": {
        "id": "1M8mcRywphqQ"
      }
    },
    {
      "cell_type": "markdown",
      "source": [
        "By comparing the boxplots for city hotels and resort hotels, higher distribution of stays in week nights for  the resort hotels as compared to the city hotel."
      ],
      "metadata": {
        "id": "8agQvks0phqQ"
      }
    },
    {
      "cell_type": "markdown",
      "source": [
        "##### 2. What is/are the insight(s) found from the chart?"
      ],
      "metadata": {
        "id": "tgIPom80phqQ"
      }
    },
    {
      "cell_type": "markdown",
      "source": [
        "By comparing the heights and shapes of the boxes, as well as the whiskers, you can assess the overall distribution of stays in weekend nights between city hotels and resort hotels. if there are notable differences, it indicates distinct patterns in stays in week nights between the two hotel types."
      ],
      "metadata": {
        "id": "Qp13pnNzphqQ"
      }
    },
    {
      "cell_type": "markdown",
      "source": [
        "##### 3. Will the gained insights help creating a positive business impact?\n",
        "Are there any insights that lead to negative growth? Justify with specific reason."
      ],
      "metadata": {
        "id": "JMzcOPDDphqR"
      }
    },
    {
      "cell_type": "markdown",
      "source": [
        "Businesses can optimize staffing, inventory management, and service availability to meet the specific demands of stays in week nights in each hotel type."
      ],
      "metadata": {
        "id": "R4Ka1PC2phqR"
      }
    },
    {
      "cell_type": "markdown",
      "source": [
        "#### Chart - 11. What are the different market segments represented in the dataset, and how do they compare in terms of booking counts?"
      ],
      "metadata": {
        "id": "x-EpHcCOp1ci"
      }
    },
    {
      "cell_type": "code",
      "source": [
        "# Chart - 11 visualization code\n",
        "# Calculate the booking counts for each market segment\n",
        "market_segment_counts=hotel_df['market_segment'].value_counts()\n",
        "sns.barplot(x=market_segment_counts.index,y=market_segment_counts.values)\n",
        "plt.xlabel('Market segment')\n",
        "plt.ylabel('Booking counts')\n",
        "plt.title('booking counts by Market segment')\n",
        "plt.xticks(rotation = 90)\n",
        "plt.show()\n"
      ],
      "metadata": {
        "id": "mAQTIvtqp1cj"
      },
      "execution_count": null,
      "outputs": []
    },
    {
      "cell_type": "markdown",
      "source": [
        "##### 1. Why did you pick the specific chart?"
      ],
      "metadata": {
        "id": "X_VqEhTip1ck"
      }
    },
    {
      "cell_type": "markdown",
      "source": [
        "Each bar represents a specific market segment, and the height of the bar i.e Online TA highest booking count, then offline TA/TO and compair to others market segments."
      ],
      "metadata": {
        "id": "-vsMzt_np1ck"
      }
    },
    {
      "cell_type": "markdown",
      "source": [
        "##### 2. What is/are the insight(s) found from the chart?"
      ],
      "metadata": {
        "id": "8zGJKyg5p1ck"
      }
    },
    {
      "cell_type": "markdown",
      "source": [
        "The bar plot provides insights into the popularity of each market segment based on the booking counts. Higher bars indicate market segments with higher booking volumes, suggesting greater demand and popularity among guests. Lower bars indicate segments with comparatively lower booking volumes."
      ],
      "metadata": {
        "id": "ZYdMsrqVp1ck"
      }
    },
    {
      "cell_type": "markdown",
      "source": [
        "##### 3. Will the gained insights help creating a positive business impact?\n",
        "Are there any insights that lead to negative growth? Justify with specific reason."
      ],
      "metadata": {
        "id": "PVzmfK_Ep1ck"
      }
    },
    {
      "cell_type": "markdown",
      "source": [
        "Identifying segments with lower booking counts presents potential growth opportunities. These segments may be relatively untapped or underrepresented in the current marketing efforts. Businesses can develop targeted strategies to attract more bookings from these segments and expand their customer base."
      ],
      "metadata": {
        "id": "druuKYZpp1ck"
      }
    },
    {
      "cell_type": "markdown",
      "source": [
        "#### Chart - 12  Which distribution channels are most commonly used for hotel bookings?"
      ],
      "metadata": {
        "id": "n3dbpmDWp1ck"
      }
    },
    {
      "cell_type": "code",
      "source": [
        "# Chart - 12 visualization code\n",
        "\n",
        "# Calculate the booking counts for each distribution channel\n",
        "\n",
        "distribution_channel_counts = hotel_df['distribution_channel'].value_counts()\n",
        "sns.barplot(x = distribution_channel_counts.index,y= distribution_channel_counts.values)\n",
        "plt.xlabel('Distribution Channel')\n",
        "plt.ylabel('Booking Counts')\n",
        "plt.title('Booking counts by Distribution Channel ')\n",
        "plt.xticks(rotation = 90)\n",
        "plt.show()"
      ],
      "metadata": {
        "id": "bwevp1tKp1ck"
      },
      "execution_count": null,
      "outputs": []
    },
    {
      "cell_type": "markdown",
      "source": [
        "##### 1. Why did you pick the specific chart?"
      ],
      "metadata": {
        "id": "ylSl6qgtp1ck"
      }
    },
    {
      "cell_type": "markdown",
      "source": [
        "The resulting bar chart will show the booking counts for each distribution channel. TA/TO bar represents a significant  distribution channel, and the Direct and Corporate bar indicates the  low corresponding booking count."
      ],
      "metadata": {
        "id": "m2xqNkiQp1ck"
      }
    },
    {
      "cell_type": "markdown",
      "source": [
        "##### 2. What is/are the insight(s) found from the chart?"
      ],
      "metadata": {
        "id": "ZWILFDl5p1ck"
      }
    },
    {
      "cell_type": "markdown",
      "source": [
        "By comparing the heights of the bars, you can visually assess the relative popularity and usage of different distribution channels. This insight helps in understanding which channels have a larger share of the market and attract a higher volume of bookings."
      ],
      "metadata": {
        "id": "x-lUsV2mp1ck"
      }
    },
    {
      "cell_type": "markdown",
      "source": [
        "##### 3. Will the gained insights help creating a positive business impact?\n",
        "Are there any insights that lead to negative growth? Justify with specific reason."
      ],
      "metadata": {
        "id": "M7G43BXep1ck"
      }
    },
    {
      "cell_type": "markdown",
      "source": [
        "Identifying the most commonly used distribution channels opens up opportunities for partnerships and collaborations. Businesses can explore partnerships with popular channels to enhance their visibility, expand their customer base, and attract more bookings."
      ],
      "metadata": {
        "id": "5wwDJXsLp1cl"
      }
    },
    {
      "cell_type": "markdown",
      "source": [
        "#### Chart - 13 What is the distribution of ADR values in the dataset"
      ],
      "metadata": {
        "id": "Ag9LCva-p1cl"
      }
    },
    {
      "cell_type": "code",
      "source": [
        "# Chart - 13 visualization code\n",
        "\n",
        "# Plotting the histogram\n",
        "sns.histplot(data=hotel_df, x='adr', kde=True)\n",
        "plt.xlabel('ADR')\n",
        "plt.ylabel('Frequency')\n",
        "plt.title('Distribution of ADR Values')\n",
        "plt.show()\n"
      ],
      "metadata": {
        "id": "EUfxeq9-p1cl"
      },
      "execution_count": null,
      "outputs": []
    },
    {
      "cell_type": "markdown",
      "source": [
        "##### 1. Why did you pick the specific chart?"
      ],
      "metadata": {
        "id": "E6MkPsBcp1cl"
      }
    },
    {
      "cell_type": "markdown",
      "source": [
        "A histogram provides a clear and concise representation of the distribution of a numerical variable, such as ADR values."
      ],
      "metadata": {
        "id": "V22bRsFWp1cl"
      }
    },
    {
      "cell_type": "markdown",
      "source": [
        "##### 2. What is/are the insight(s) found from the chart?"
      ],
      "metadata": {
        "id": "2cELzS2fp1cl"
      }
    },
    {
      "cell_type": "markdown",
      "source": [
        "Higher bars indicate a higher frequency of ADR values falling within that range."
      ],
      "metadata": {
        "id": "ozQPc2_Ip1cl"
      }
    },
    {
      "cell_type": "markdown",
      "source": [
        "##### 3. Will the gained insights help creating a positive business impact?\n",
        "Are there any insights that lead to negative growth? Justify with specific reason."
      ],
      "metadata": {
        "id": "3MPXvC8up1cl"
      }
    },
    {
      "cell_type": "markdown",
      "source": [
        "Understanding the distribution of ADR values allows businesses to optimize their pricing strategies. By analyzing the concentration of ADR values and the range of prices, businesses can adjust their pricing tiers, identify opportunities for upselling or bundling, and set competitive rates. This can lead to improved revenue management, increased profitability, and a positive impact on the business."
      ],
      "metadata": {
        "id": "GL8l1tdLp1cl"
      }
    },
    {
      "cell_type": "markdown",
      "source": [
        "#### Chart - 14 - Correlation Heatmap"
      ],
      "metadata": {
        "id": "NC_X3p0fY2L0"
      }
    },
    {
      "cell_type": "code",
      "source": [
        "# to display max columns to check columns name so i can see the corretion heatmap which coulmns should i use.\n",
        "pd.set_option('display.max_columns', 32)\n",
        "hotel_df.head(2)"
      ],
      "metadata": {
        "id": "prNArAQeijxA"
      },
      "execution_count": null,
      "outputs": []
    },
    {
      "cell_type": "code",
      "source": [
        "# Correlation Heatmap visualization code\n",
        "\n",
        "# Select the relevant columns for correlation analysis\n",
        "correlation_cols = hotel_df[['is_canceled', 'lead_time', 'stays_in_weekend_nights', 'stays_in_week_nights']]\n",
        "\n",
        "# Calculate the correlation matrix\n",
        "correlation_matrix = correlation_cols.corr()\n",
        "\n",
        "# Plotting the correlation heatmap\n",
        "plt.figure(figsize=(12, 10))\n",
        "sns.heatmap(correlation_matrix, annot=True,cmap ='Blues')\n",
        "plt.title('Correlation Heatmap')\n",
        "plt.show()\n"
      ],
      "metadata": {
        "id": "xyC9zolEZNRQ"
      },
      "execution_count": null,
      "outputs": []
    },
    {
      "cell_type": "markdown",
      "source": [
        "##### 1. Why did you pick the specific chart?"
      ],
      "metadata": {
        "id": "UV0SzAkaZNRQ"
      }
    },
    {
      "cell_type": "markdown",
      "source": [
        "the correlation heatmap as the specific chart because it is an effective visual tool for understanding the relationships between multiple variables in a dataset"
      ],
      "metadata": {
        "id": "DVPuT8LYZNRQ"
      }
    },
    {
      "cell_type": "markdown",
      "source": [
        "##### 2. What is/are the insight(s) found from the chart?"
      ],
      "metadata": {
        "id": "YPEH6qLeZNRQ"
      }
    },
    {
      "cell_type": "markdown",
      "source": [
        "The correlation heatmap allows for the simultaneous comparison of multiple variables. In this case, the heatmap shows the correlations between 'is_canceled', 'lead_time', 'stays_in_weekend_nights', and 'stays_in_week_nights'. By visualizing these correlations together, it becomes easier to identify any patterns or relationships between these variables."
      ],
      "metadata": {
        "id": "bfSqtnDqZNRR"
      }
    },
    {
      "cell_type": "markdown",
      "source": [
        "##### 3. Will the gained insights help creating a positive business impact?\n",
        "Are there any insights that lead to negative growth? Justify with specific reason.\n"
      ],
      "metadata": {
        "id": "2tQ8mW8U7NLM"
      }
    },
    {
      "cell_type": "markdown",
      "source": [
        "Correlation analysis can assist in customer segmentation efforts. By identifying correlations between variables and customer behavior, businesses can create targeted marketing strategies and personalized experiences for different customer segments.'stays_in_week_nights' has a positive correlation with 'lead_time', it indicates that guests who book longer stays in advance may have distinct preferences."
      ],
      "metadata": {
        "id": "gV9o1zKZ7yN1"
      }
    },
    {
      "cell_type": "markdown",
      "source": [
        "#### Chart - 15 - Pair Plot How does 'lead_time' correlate with 'is_canceled' and 'arrival_date_year'? Does a longer lead time contribute to a higher cancellation rate or vary across different years?"
      ],
      "metadata": {
        "id": "q29F0dvdveiT"
      }
    },
    {
      "cell_type": "code",
      "source": [
        "# Pair Plot visualization code\n",
        "# Select the columns for the pair plot\n",
        "columns = ['lead_time','is_canceled','arrival_date_year']\n",
        "sns.pairplot(data = hotel_df[columns])\n",
        "plt.show()"
      ],
      "metadata": {
        "id": "o58-TEIhveiU"
      },
      "execution_count": null,
      "outputs": []
    },
    {
      "cell_type": "markdown",
      "source": [
        "##### 1. Why did you pick the specific chart?"
      ],
      "metadata": {
        "id": "EXh0U9oCveiU"
      }
    },
    {
      "cell_type": "markdown",
      "source": [
        "the pair plot as the specific chart because it allows for the visualization of pairwise relationships between variables."
      ],
      "metadata": {
        "id": "eMmPjTByveiU"
      }
    },
    {
      "cell_type": "markdown",
      "source": [
        "##### 2. What is/are the insight(s) found from the chart?"
      ],
      "metadata": {
        "id": "22aHeOlLveiV"
      }
    },
    {
      "cell_type": "markdown",
      "source": [
        " 'lead_time' and 'is_canceled': By examining the scatter plots, can assess the relationship between 'lead_time' and 'is_canceled'. there is no clear trend or a weak correlation, it indicates that lead time may not significantly impact the cancellation rate."
      ],
      "metadata": {
        "id": "uPQ8RGwHveiV"
      }
    },
    {
      "cell_type": "markdown",
      "source": [
        "##### 3. Will the gained insights help creating a positive business impact?\n",
        "Are there any insights that lead to negative growth? Justify with specific reason."
      ],
      "metadata": {
        "id": "G64v7xJnDhEA"
      }
    },
    {
      "cell_type": "markdown",
      "source": [],
      "metadata": {
        "id": "ZsuH3cVMEL5k"
      }
    },
    {
      "cell_type": "markdown",
      "source": [
        "## **5. Solution to Business Objective**"
      ],
      "metadata": {
        "id": "JcMwzZxoAimU"
      }
    },
    {
      "cell_type": "markdown",
      "source": [
        "#### What do you suggest the client to achieve Business Objective ?\n",
        "1. Since the city hotel has higher occurrences and cancellations compared to the resort hotel, the client can focus on implementing revenue management strategies in the city hotel to maximize revenue.\n",
        "2. Given that the majority of guests who canceled bookings are categorized as \"no repeated guests,\" the client should focus on improving customer loyalty and retention.\n",
        "3. Analyzing the different market segments represented in the dataset, online travel agencies (OTA) are the most common booking channel, the client can collaborate closely with OTA to optimize their presence and promotions. The client can tailor their marketing strategies to attract and retain customers from those segments.\n",
        "4. Since longer lead times contribute to higher cancellation rates, the client should focus on improving booking conversions for customers with longer lead times. Offering early bird discounts, flexible cancellation policies for early bookings, or exclusive benefits for guests who book well in advance can help encourage customers to commit to their reservations.\n",
        "5. The client should pay attention to the seasonal booking patterns, with August and January being the highest booking months. They can plan their marketing and staffing strategies accordingly to accommodate the increased demand during these periods. Additionally, the significant bookings in April and May indicate a potential opportunity to promote special offers or packages during those months to attract more guests.\n",
        "6. With the ADR (Average Daily Rate) values falling between 2000 - 2500, the client can assess their pricing strategy to optimize revenue. They can consider conducting a pricing analysis based on market demand.\n",
        "7. Analyzing the reasons for cancellations and comparing the cancellation rates between the city hotel and the resort hotel can help identify potential areas for improvement. The client can focus on reducing cancellation rates by offering attractive non-refundable rates, providing clear and transparent communication about cancellation policies, and implementing customer feedback systems to address any potential issues.\n",
        "8. Portugal (PRT), the country with the highest number of bookings, should be a key focus for the client. They can invest in targeted marketing campaigns and promotional offers to further capitalize on the demand from this market.\n",
        "9. For countries like the United Kingdom (GBR) and France (FRA), which have similar booking numbers, the client should consider understanding the specific customer segments from these countries and design marketing strategies to attract and retain them.\n"
      ],
      "metadata": {
        "id": "8G2x9gOozGDZ"
      }
    },
    {
      "cell_type": "markdown",
      "source": [
        "Answer Here."
      ],
      "metadata": {
        "id": "pASKb0qOza21"
      }
    },
    {
      "cell_type": "markdown",
      "source": [
        "# **Conclusion**"
      ],
      "metadata": {
        "id": "gCX9965dhzqZ"
      }
    },
    {
      "cell_type": "markdown",
      "source": [
        "1. Revenue Optimization: Focus on revenue management strategies in the city hotel, considering its higher occurrences and cancellations compared to the resort hotel.\n",
        "2. Customer Retention: Improve customer loyalty and retention by implementing personalized marketing campaigns, targeted offers, and loyalty programs.\n",
        "3. Market Segmentation: Analyze different market segments represented in the dataset to tailor marketing strategies and attract profitable customer segments.\n",
        "4. Lead Time Analysis: Improve booking conversions for customers with longer lead times by offering early bird discounts and exclusive benefits for early bookings.\n",
        "5. Seasonal Demand: Plan marketing and staffing strategies around seasonal booking patterns, with a focus on high-demand months like August and January.\n",
        "6. ADR Optimization: Assess pricing strategy to optimize Average Daily Rate (ADR), considering market demand, competitor rates, and guest preferences.\n",
        "7. Cancellation Rate: Reduce cancellation rates by offering attractive non-refundable rates, clear communication about cancellation policies, and addressing customer feedback.\n",
        "8. Country-Specific Focus: Focus on countries with high booking numbers, such as Portugal (PRT), the United Kingdom (GBR), France (FRA), Spain (ESP), Germany (DEU), Italy (ITA), and Ireland (IRL)\n",
        "\n"
      ],
      "metadata": {
        "id": "Fjb1IsQkh3yE"
      }
    },
    {
      "cell_type": "markdown",
      "source": [
        "### ***Hurrah! You have successfully completed your EDA Capstone Project !!!***"
      ],
      "metadata": {
        "id": "gIfDvo9L0UH2"
      }
    }
  ]
}